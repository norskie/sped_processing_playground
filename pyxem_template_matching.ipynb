{
 "cells": [
  {
   "cell_type": "markdown",
   "metadata": {},
   "source": [
    "# Pyxem template matching example"
   ]
  },
  {
   "cell_type": "markdown",
   "metadata": {},
   "source": [
    "As usual, start with loading required dependencies"
   ]
  },
  {
   "cell_type": "code",
   "execution_count": null,
   "metadata": {},
   "outputs": [],
   "source": [
    "# You might have tk installed instead of qt\n",
    "%matplotlib qt\n",
    "import math\n",
    "import numpy as np\n",
    "\n",
    "import matplotlib.pyplot as plt\n",
    "\n",
    "import pyxem as pxm\n",
    "from pyxem.libraries.structure_library import StructureLibrary\n",
    "from pyxem.generators.indexation_generator import IndexationGenerator\n",
    "\n",
    "import diffpy.structure\n",
    "\n",
    "from transforms3d.axangles import axangle2mat\n",
    "from transforms3d.euler import euler2mat\n",
    "from transforms3d.euler import mat2euler\n",
    "\n",
    "import warnings\n",
    "# Silence some future warnings and user warnings (float64 -> uint8)\n",
    "# in skimage when calling remove_background with h-dome (below)\n",
    "# Should really be fixed elsewhere.\n",
    "warnings.simplefilter(action='ignore', category=FutureWarning)\n",
    "warnings.simplefilter(action='ignore', category=UserWarning)"
   ]
  },
  {
   "cell_type": "markdown",
   "metadata": {},
   "source": [
    "## Parameters and loading\n",
    "Let's start defining some variables and parameters for later use. The data paths should be updated to match your system.\n",
    "\n",
    "Local, absolute paths obviously has to be changed."
   ]
  },
  {
   "cell_type": "code",
   "execution_count": null,
   "metadata": {},
   "outputs": [],
   "source": [
    "# Data to be analyzed\n",
    "data_dir = 'D:/Dokumenter/MTNANO/Prosjektoppgave/SPED_data_GaAs_NW/'\n",
    "in_file = data_dir + 'gen/Julie_180510_SCN45_FIB_a_pyxem_sample.hdf5'\n",
    "\n",
    "# Structure files defining the atomic structure. Loaded using diffpy, could be e.g. .cif files.\n",
    "structure_zb_file = 'D:\\\\Dokumenter/MTNANO/Prosjektoppgave/Data/Gen/NN_test_data/GaAs_mp-2534_conventional_standard.cif'\n",
    "structure_wz_file = 'D:\\\\Dokumenter/MTNANO/Prosjektoppgave/Data/Gen/NN_test_data/GaAs_mp-8883_conventional_standard.cif'\n",
    "\n",
    "# Some experimental parameters\n",
    "beam_energy_keV = 200\n",
    "max_excitation_error = 1/80  # Ångström^{-1}, extent of relrods in reciprocal space. Inverse of specimen thickness is a starting point\n",
    "nm_per_pixel = 1.12  # Real space step length\n",
    "reciprocal_angstrom_per_pixel = 0.033  # Reciprocal calibration\n",
    "\n",
    "direct_beam_mask_radius = 3  # pixels. Radius of direct beam, for masking\n",
    "rotation_list_resolution = np.deg2rad(1)  # Radians. Resolution of generated pattern library"
   ]
  },
  {
   "cell_type": "markdown",
   "metadata": {},
   "source": [
    "Actually load the files. First, the structure files defining the crystal structure is loaded.\n",
    "\n",
    "Then load the SPED dataset. The file is lazy-loaded and then cut. This ensures that only required areas are loaded from disk to memory.\n",
    "\n",
    "The data type is changed to float and some metadata is set. The call to `pxm.ElectronDiffraction` converts the lazy hyperspy signal to an actual pyxem object. The metadata from the file has to be copied manually. The constructor probably should have done so automatically, but it does not."
   ]
  },
  {
   "cell_type": "code",
   "execution_count": null,
   "metadata": {},
   "outputs": [],
   "source": [
    "structure_zb = diffpy.structure.loadStructure(structure_zb_file)\n",
    "structure_wz = diffpy.structure.loadStructure(structure_wz_file)\n",
    "\n",
    "dp = pxm.load(in_file, lazy=True)\n",
    "# dp = dp.inav[95:100, 110:150]  # ZB1, ZB2 and transition\n",
    "dp = dp.inav[95:100, 30:75]  # WZ, ZB1, ZB2\n",
    "if dp.data.dtype != 'float64':\n",
    "    dp.change_dtype('float64')\n",
    "\n",
    "# Convert to a pyxem ElectronDiffraction, conserve the metadata and add some more\n",
    "dp_metadata = dp.metadata\n",
    "dp = pxm.ElectronDiffraction(dp)\n",
    "dp.metadata = dp_metadata\n",
    "dp.set_scan_calibration(nm_per_pixel)\n",
    "dp.set_diffraction_calibration(reciprocal_angstrom_per_pixel)"
   ]
  },
  {
   "cell_type": "markdown",
   "metadata": {},
   "source": [
    "## Data cleaning\n",
    "After loading the signal, do some cleaning of the data.\n",
    "\n",
    "I would like to start by rotating to a common direction. This simplifies the pattern matching, since one rotational degree of freedom is removed. For this dataset, the rotation is 41°. For this to work, the template library would have to be generated to the same base direction, but the current implementation does not. In this dataset, there is an extra difficulty in that ZB appears in two rotations. It should be a 120° in real space, but the difference is about 70° (110°) in the diffraction pattern. This might be because of stretching of the pattern? To be investigated.\n",
    "\n",
    "Next, the pattern should be centered. The `center_direct_beam` assumes the center beam is the strongest, which is not always the case in this dataset. The beam is already centered enough to give matches, but you could compare the results with and without the call to `center_direct_beam`.\n",
    "\n",
    "Pyxem offers multiple methods of removing background noise. Parameter testing was done in a separate notebook to keep this one clean. `h-dome` with a parameter of `h=0.55` works fine on this dataset.\n",
    "\n",
    "Finally, the center beam could be masked. Since all diffraction patterns have this beam, there is no reason to match against it. The alternative, which is done here, is just generating patterns without the center beam. As long as the diffraction pattern is centered and the spots are not too close, it does not matter that there is an extra spot. The current implementation of the template matching only checks spots present in the generated template.\n",
    "\n",
    "The data is also normalized to a maximum intensity."
   ]
  },
  {
   "cell_type": "code",
   "execution_count": null,
   "metadata": {},
   "outputs": [],
   "source": [
    "#dp.apply_affine_transformation(euler2mat(0, 0, np.deg2rad(41), 'sxyz'))\n",
    "#dp.center_direct_beam(radius_start=2, radius_finish=5)\n",
    "dp.apply_affine_transformation(np.array([\n",
    "    [0.95, 0, 0],\n",
    "    [0, 1, 0],\n",
    "    [0, 0, 1]\n",
    "    ]))\n",
    "dp = dp.remove_background('h-dome', h=0.55)\n",
    "#mask = dp.get_direct_beam_mask(radius=direct_beam_mask_radius)\n",
    "#dp.data *= np.invert(mask)\n",
    "dp.data *= 1 / dp.data.max()"
   ]
  },
  {
   "cell_type": "markdown",
   "metadata": {},
   "source": [
    "## Generate pattern library\n",
    "Now, define the functions for generating the pattern library. See function docstrings for an explanation."
   ]
  },
  {
   "cell_type": "code",
   "execution_count": null,
   "metadata": {},
   "outputs": [],
   "source": [
    "def angle_between_directions(structure,\n",
    "                            direction1,\n",
    "                            direction2):\n",
    "    \"\"\"Returns the angle in radians between two crystal directions in the given structure.\n",
    "    \n",
    "    Arguments:\n",
    "        structure: diffpy.structure.Structure whose lattice gives the coordinate system.\n",
    "        direction1, direction2: Directions given with three components using the structure \n",
    "            lattice as a coordinate system.\n",
    "    Returns:\n",
    "        Angle between direction1 and direction2 in radians.\n",
    "    \"\"\"\n",
    "    a = structure.lattice.a\n",
    "    b = structure.lattice.b\n",
    "    c = structure.lattice.c\n",
    "    alpha = np.deg2rad(structure.lattice.alpha)\n",
    "    beta = np.deg2rad(structure.lattice.beta)\n",
    "    gamma = np.deg2rad(structure.lattice.gamma)\n",
    "    \n",
    "    u1 = direction1[0]\n",
    "    v1 = direction1[1]\n",
    "    w1 = direction1[2]\n",
    "    \n",
    "    u2 = direction2[0]\n",
    "    v2 = direction2[1]\n",
    "    w2 = direction2[2]\n",
    "    \n",
    "    L = a**2*u1*u2 + b**2*v1*v2 + c**2*w1*w2 \\\n",
    "        + b*c*(v1*w2 + w1*v2)*math.cos(alpha) \\\n",
    "        + a*c*(w1*u2 + u1*w2)*math.cos(beta) \\\n",
    "        + a*b*(u1*v2 + v1*u2)*math.cos(gamma)\n",
    "    \n",
    "    I1 = np.sqrt(a**2 * u1**2 + b**2*v1**2 + c**2*w1**2 \\\n",
    "        + 2*b*c*v1*w1*math.cos(alpha) \\\n",
    "        + 2*a*c*w1*u1*math.cos(beta) \\\n",
    "        + 2*a*b*u1*v1*math.cos(gamma))\n",
    "    \n",
    "    I2 = np.sqrt(a**2 * u2**2 + b**2*v2**2 + c**2*w2**2 \\\n",
    "        + 2*b*c*v2*w2*math.cos(alpha) \\\n",
    "        + 2*a*c*w2*u2*math.cos(beta) \\\n",
    "        + 2*a*b*u2*v2*math.cos(gamma))\n",
    "\n",
    "    return math.acos(min(1, L/(I1*I2)))\n",
    "\n",
    "\n",
    "def generate_complete_rotation_list(structure, corner_a, corner_b, corner_c, resolution, psi_angles):\n",
    "    \"\"\"Generate a rotation list covering the inverse pole figure specified by three\n",
    "        corners in cartesian coordinates.\n",
    "    \n",
    "    Arguments:\n",
    "        structure: diffpy.structure.Structure, used for calculating angles\n",
    "        corner_a, corner_b, corner_c: The three corners of the inverse pole\n",
    "            figure given by three coordinates in the coordinate system\n",
    "            specified by the structure lattice.\n",
    "        resolution: Angular resolution in radians of the generated rotation\n",
    "            list.\n",
    "        psi_angles: np.array with angles in radians for final rotation angle.\n",
    "    \n",
    "    Returns:\n",
    "        Rotations covering the inverse pole figure given as a `np.array` of Euler\n",
    "            angles in degress. This `np.array` can be passed directly to pyxem.\n",
    "    \"\"\"\n",
    "    # Start defining some angles and normals from the given corners\n",
    "    angle_a_to_b = angle_between_directions(structure, corner_a, corner_b)\n",
    "    angle_a_to_c = angle_between_directions(structure, corner_a, corner_c)\n",
    "    angle_b_to_c = angle_between_directions(structure, corner_b, corner_c)\n",
    "    axis_a_to_b = np.cross(corner_a, corner_b)\n",
    "    axis_a_to_c = np.cross(corner_a, corner_c)\n",
    "\n",
    "    # Input validation. The corners have to define a non-degenerate triangle\n",
    "    if np.count_nonzero(axis_a_to_b) == 0:\n",
    "        raise ValueError('Directions a and b are parallel')\n",
    "    if np.count_nonzero(axis_a_to_c) == 0:\n",
    "        raise ValueError('Directions a and c are parallel')\n",
    "    \n",
    "    # Find the maxiumum number of points we can generate, given by the\n",
    "    # resolution, then allocate storage for them. For the theta direction,\n",
    "    # ensure that we keep the resolution also along the direction to the corner\n",
    "    # b or c farthest away from a.\n",
    "    psi_count = psi_angles.shape[0]\n",
    "    theta_count = math.ceil(max(angle_a_to_b, angle_a_to_c) / resolution)\n",
    "    phi_count = math.ceil(angle_b_to_c / resolution)\n",
    "    rotations = np.zeros((theta_count, phi_count, psi_count, 3))\n",
    "\n",
    "    # For each theta_count angle theta, evenly spaced\n",
    "    for i, (theta_b, theta_c) in enumerate(zip(\n",
    "        np.linspace(0, angle_a_to_b, theta_count),\n",
    "        np.linspace(0, angle_a_to_c, theta_count))):\n",
    "        # Define the corner local_b at a rotation theta from corner_a toward\n",
    "        #   corner_b on the circle surface. Similarly, define the corner\n",
    "        #   local_c at a rotation theta from corner_a toward corner_c\n",
    "\n",
    "        rotation_a_to_b = axangle2mat(axis_a_to_b, theta_b)\n",
    "        rotation_a_to_c = axangle2mat(axis_a_to_c, theta_c)\n",
    "        local_b = np.dot(corner_a, rotation_a_to_b)\n",
    "        local_c = np.dot(corner_a, rotation_a_to_c)\n",
    "\n",
    "        # Then define an axis and a maximum rotation to create a great cicle\n",
    "        # arc between local_b and local_c. Ensure that this is not a degenerate\n",
    "        # case where local_b and local_c are coincident.\n",
    "        angle_local_b_to_c = angle_between_directions(structure, local_b, local_c)\n",
    "        axis_local_b_to_c = np.cross(local_b, local_c)\n",
    "        if np.count_nonzero(axis_local_b_to_c) == 0:\n",
    "            # Theta rotation ended at the same position. First position, might\n",
    "            # be other cases?\n",
    "            axis_local_b_to_c = corner_a\n",
    "        axis_local_b_to_c /= np.linalg.norm(axis_local_b_to_c)\n",
    "\n",
    "        # Generate points along the great circle arc with a distance defined by\n",
    "        # resolution.\n",
    "        phi_count_local = math.ceil(angle_local_b_to_c / resolution)\n",
    "        for j, phi in enumerate(np.linspace(0, angle_local_b_to_c, phi_count_local)):\n",
    "            rotation_phi = axangle2mat(axis_local_b_to_c, phi)\n",
    "            for k, psi in enumerate(psi_angles):\n",
    "                rotation_psi = axangle2mat((0, 0, 1), psi)\n",
    "                \n",
    "                # Combine the rotations. Order is important. The structure is\n",
    "                # multiplied from the left in diffpy, and we want to rotate by\n",
    "                # phi first.\n",
    "                rotation = np.matmul(rotation_phi, np.matmul(rotation_a_to_b, rotation_psi))\n",
    "                # Finally, convert to Euler angles in degrees for passing\n",
    "                # to pyxem (which then immediately converts them back to\n",
    "                # a matrix).\n",
    "                rotations[i, j, k] = np.rad2deg(mat2euler(rotation, 'rzxz'))\n",
    "    \n",
    "    # Before returning, flatten to one-dimensional list of Euler angle triplets and\n",
    "    # remove duplicate items.\n",
    "    return np.unique(rotations.reshape(-1, 3), axis=0)\n",
    "\n",
    "\n",
    "def uvtw_to_uvw(u, v, t, w):\n",
    "    \"\"\"Convert Miller-Bravais indices to Miller indices.\n",
    "    \n",
    "    Arguments:\n",
    "        u, v, t, w: Four integers specifying a direction\n",
    "            using Miller-Bravais indices.\n",
    "    Returns:\n",
    "        u, v, w: Three integers specifying the same direction\n",
    "            using Miller indices, reduced by dividing by greatest\n",
    "            common denominator.\n",
    "    \"\"\"\n",
    "    U, V, W = 2*u + v, 2*v + u, w\n",
    "    common_factor = math.gcd(math.gcd(U, V), W)\n",
    "    return tuple((int(x/common_factor)) for x in (U, V, W))\n",
    "\n",
    "\n",
    "def direction_to_cartesian(structure, direction):\n",
    "    \"\"\"Convert a vector from a coordinate system defined by structure.lattice\n",
    "    to cartesian.\n",
    "    \n",
    "    Arguments:\n",
    "        structure: diffpy.structure.Structure with a lattice defining the coordinate system\n",
    "        direction: 3D vector to be converted\n",
    "        \n",
    "    Returns:\n",
    "        3D vector : np.array. Direction with basis changed to cartesian.\n",
    "    \"\"\"\n",
    "    a = structure.lattice.a\n",
    "    b = structure.lattice.b\n",
    "    c = structure.lattice.c\n",
    "    alpha = np.deg2rad(structure.lattice.alpha)  # angle a to c\n",
    "    beta  = np.deg2rad(structure.lattice.beta)   # angle b to c\n",
    "    gamma = np.deg2rad(structure.lattice.gamma)  # angle a to b\n",
    "\n",
    "    cos_alpha = math.cos(alpha)\n",
    "    cos_beta  = math.cos(beta)\n",
    "    cos_gamma = math.cos(gamma)\n",
    "    sin_gamma = math.sin(gamma)\n",
    "\n",
    "    factor_e3_0 = cos_beta\n",
    "    factor_e3_1 = (cos_alpha - cos_beta*cos_gamma)/sin_gamma\n",
    "    factor_e3_2 = math.sqrt(1 - np.dot(factor_e3_0, factor_e3_0) - np.dot(factor_e3_1, factor_e3_1))\n",
    "\n",
    "    transform = np.array([\n",
    "        [a, b*cos_gamma, c*factor_e3_0],\n",
    "        [0, b*sin_gamma, c*factor_e3_1],\n",
    "        [0, 0,           c*factor_e3_2]\n",
    "    ])\n",
    "    return np.dot(transform, direction)"
   ]
  },
  {
   "cell_type": "markdown",
   "metadata": {},
   "source": [
    "Now use the functions defined above to generate a rotation list covering the inverse pole figure for the ZB and WZ structures. The ZB pole figure is defined between the corners $(0, 0, 1), (1, 0, 1), (1, 1, 1)$, and the WZ pole figure is defined between $(0, 0, 0, 1), (1, 1, -2, 0), (1, 0, -1, 0)$. Generate two sets of rotations for ZB, since the dataset contains twins. We could also generate two separate lists and treat them as separate phases.\n",
    "\n",
    "A probably better version of this is to generate a relatively coarse rotation list, find the best `n` matches and then generate local rotation lists around these directions and phases."
   ]
  },
  {
   "cell_type": "code",
   "execution_count": null,
   "metadata": {},
   "outputs": [],
   "source": [
    "rotation_list_ZB = generate_complete_rotation_list(\n",
    "    structure_zb,\n",
    "    (0, 0, 1),\n",
    "    (1, 0, 1),\n",
    "    (1, 1, 1),\n",
    "    rotation_list_resolution,\n",
    "    np.deg2rad((84.6, 15)))\n",
    "rotation_list_WZ = generate_complete_rotation_list(\n",
    "    structure_wz,\n",
    "    direction_to_cartesian(structure_wz, uvtw_to_uvw(0, 0, 0, 1)),\n",
    "    direction_to_cartesian(structure_wz, uvtw_to_uvw(1, 1, -2, 0)),\n",
    "    direction_to_cartesian(structure_wz, uvtw_to_uvw(1, 0, -1, 0)),\n",
    "    rotation_list_resolution,\n",
    "    np.deg2rad((109,)))"
   ]
  },
  {
   "cell_type": "markdown",
   "metadata": {},
   "source": [
    "Create the structure library and diffraction generator using paramters specified at the top."
   ]
  },
  {
   "cell_type": "code",
   "execution_count": null,
   "metadata": {},
   "outputs": [],
   "source": [
    "phases = ['ZB', 'WZ']\n",
    "structure_library = StructureLibrary(\n",
    "        phases,\n",
    "        [structure_zb, structure_wz],\n",
    "        [rotation_list_ZB, rotation_list_WZ])\n",
    "gen = pxm.DiffractionGenerator(beam_energy_keV, max_excitation_error=max_excitation_error)\n",
    "library_generator = pxm.DiffractionLibraryGenerator(gen)\n",
    "target_pattern_dimension_pixels = dp.axes_manager.signal_shape[0]\n",
    "half_pattern_size = target_pattern_dimension_pixels // 2\n",
    "reciprocal_radius = reciprocal_angstrom_per_pixel*(half_pattern_size - 1)"
   ]
  },
  {
   "cell_type": "markdown",
   "metadata": {},
   "source": [
    "And finally generate the actual template library."
   ]
  },
  {
   "cell_type": "code",
   "execution_count": null,
   "metadata": {},
   "outputs": [],
   "source": [
    "diffraction_library = library_generator.get_diffraction_library(\n",
    "    structure_library,\n",
    "    calibration=reciprocal_angstrom_per_pixel,\n",
    "    reciprocal_radius=reciprocal_radius,\n",
    "    half_shape=(half_pattern_size, half_pattern_size),\n",
    "    with_direct_beam=False)"
   ]
  },
  {
   "cell_type": "markdown",
   "metadata": {},
   "source": [
    "## Correlation\n",
    "Given the `diffraction_library` defined above, the `IndexationGenerator` finds the correlation between all patterns in the library and each experimental pattern, and returns the `n_largest` with highest correlation."
   ]
  },
  {
   "cell_type": "code",
   "execution_count": null,
   "metadata": {},
   "outputs": [],
   "source": [
    "indexer = IndexationGenerator(dp, diffraction_library)\n",
    "indexation_results = indexer.correlate(n_largest=4, keys=phases)"
   ]
  },
  {
   "cell_type": "markdown",
   "metadata": {},
   "source": [
    "Now, visualize the results."
   ]
  },
  {
   "cell_type": "code",
   "execution_count": null,
   "metadata": {},
   "outputs": [],
   "source": [
    "crystal_map = indexation_results.get_crystallographic_map()\n",
    "crystal_map.get_phase_map().plot()\n",
    "crystal_map.get_distance_from_modal_angle().plot()"
   ]
  },
  {
   "cell_type": "markdown",
   "metadata": {},
   "source": [
    "Let's look at the best match. For now, single position at a time. https://github.com/pyxem/pyxem/pull/293 should fix the built-in solution. Instead, first get the matches and store them in peaks."
   ]
  },
  {
   "cell_type": "code",
   "execution_count": null,
   "metadata": {},
   "outputs": [],
   "source": [
    "peaks = []\n",
    "for indexation_result in indexation_results:\n",
    "    single_match_result = indexation_result.data\n",
    "    best_fit = single_match_result[np.argmax(single_match_result[:, 4])]\n",
    "    phase_name = phases[int(best_fit[0])]\n",
    "    library_entry = diffraction_library.get_library_entry(phase=phase_name, angle=(best_fit[1], best_fit[2], best_fit[3]))\n",
    "    #library_entry = diffraction_library.get_library_entry(phase='WZ', angle=(120.954560921187, 90.0, -41))  # To look at a specific phase and rotation (angles from rotation list)\n",
    "    peaks.append((library_entry['pixel_coords'], library_entry['intensities'], [phase_name, *best_fit[1:4]]))\n",
    "peaks = np.array(peaks).reshape(dp.data.shape[0], dp.data.shape[1], 3)"
   ]
  },
  {
   "cell_type": "markdown",
   "metadata": {},
   "source": [
    "Then, plot the image and write the phase and angle"
   ]
  },
  {
   "cell_type": "code",
   "execution_count": null,
   "metadata": {},
   "outputs": [],
   "source": [
    "dp.set_diffraction_calibration(reciprocal_angstrom_per_pixel)\n",
    "x = 0\n",
    "y = 30\n",
    "plt.figure(50)\n",
    "plt.cla()\n",
    "plt.imshow(dp.inav[x, y])\n",
    "plt.scatter(peaks[y, x, 0][:, 0], peaks[y, x, 0][:, 1], marker='x', c=peaks[y, x, 1], cmap='viridis')\n",
    "print('Best fit:', peaks[y, x, 2])"
   ]
  },
  {
   "cell_type": "code",
   "execution_count": null,
   "metadata": {},
   "outputs": [],
   "source": []
  }
 ],
 "metadata": {
  "kernelspec": {
   "display_name": "Python 3",
   "language": "python",
   "name": "python3"
  },
  "language_info": {
   "codemirror_mode": {
    "name": "ipython",
    "version": 3
   },
   "file_extension": ".py",
   "mimetype": "text/x-python",
   "name": "python",
   "nbconvert_exporter": "python",
   "pygments_lexer": "ipython3",
   "version": "3.6.5"
  }
 },
 "nbformat": 4,
 "nbformat_minor": 2
}
