{
 "cells": [
  {
   "cell_type": "code",
   "execution_count": null,
   "metadata": {},
   "outputs": [],
   "source": [
    "%matplotlib qt\n",
    "import math\n",
    "import numpy as np\n",
    "import pyxem as pxm\n",
    "import hyperspy.api as hs\n",
    "\n",
    "from skimage import morphology, filters\n",
    "\n",
    "import matplotlib.pyplot as plt\n",
    "\n",
    "import warnings\n",
    "# Silence some future warnings and user warnings (float64 -> uint8) in skimage\n",
    "warnings.simplefilter(action='ignore', category=FutureWarning)\n",
    "warnings.simplefilter(action='ignore', category=UserWarning)"
   ]
  },
  {
   "cell_type": "code",
   "execution_count": null,
   "metadata": {},
   "outputs": [],
   "source": []
  },
  {
   "cell_type": "code",
   "execution_count": null,
   "metadata": {},
   "outputs": [],
   "source": [
    "data_dir = 'D:/Dokumenter/MTNANO/Prosjektoppgave/SPED_data_GaAs_NW/'\n",
    "#in_file = data_dir + 'gen/Julie_180510_SCN45_FIB_c_crop.hdf5'\n",
    "#out_file = data_dir + 'gen/Julie_180510_SCN45_FIB_c_crop_{}.hdf5'\n",
    "in_file = data_dir + 'raw/Julie_180510_SCN45_FIB_a.blo'\n",
    "out_file = data_dir + 'gen/Julie_180510_SCN45_FIB_a_{}.hdf5'"
   ]
  },
  {
   "cell_type": "code",
   "execution_count": null,
   "metadata": {},
   "outputs": [],
   "source": [
    "s = pxm.load(in_file, lazy=True)\n",
    "s = s.inav[90:100, 110:150]\n",
    "if s.data.dtype != 'float64':\n",
    "    s.change_dtype('float64')\n",
    "\n",
    "# Convert to a pyxem ElectronDiffraction, conserve the metadata and add some more\n",
    "s_metadata = s.metadata\n",
    "s = pxm.ElectronDiffraction(s)\n",
    "s.metadata = s_metadata"
   ]
  },
  {
   "cell_type": "code",
   "execution_count": null,
   "metadata": {},
   "outputs": [],
   "source": [
    "s.center_direct_beam(radius_start=2, radius_finish=5)"
   ]
  },
  {
   "cell_type": "code",
   "execution_count": null,
   "metadata": {},
   "outputs": [],
   "source": [
    "def rescale(s):\n",
    "    s.data *= 1 / np.max(s.data)\n",
    "    \n",
    "def mask_direct_beam(s):\n",
    "    direct_beam_mask_size = 7\n",
    "    mask = s.get_direct_beam_mask(direct_beam_mask_size)\n",
    "    return pxm.ElectronDiffraction(s*np.invert(mask))\n",
    "\n",
    "def filename(base, *args):\n",
    "    return base.format('_'.join((str(arg) for arg in args)).replace('.', '_'))"
   ]
  },
  {
   "cell_type": "markdown",
   "metadata": {},
   "source": [
    "Parameter testing is done below"
   ]
  },
  {
   "cell_type": "code",
   "execution_count": null,
   "metadata": {},
   "outputs": [],
   "source": [
    "h = 0.55\n",
    "s_hdome = s.remove_background('h-dome', h=h)\n",
    "rescale(s_hdome)\n",
    "s_hdome = mask_direct_beam(s_hdome)\n",
    "s_hdome.save(filename(out_file, 'h_dome', 0.55), overwrite=True)"
   ]
  },
  {
   "cell_type": "code",
   "execution_count": null,
   "metadata": {},
   "outputs": [],
   "source": [
    "sigma_min = 1\n",
    "sigma_max = 6\n",
    "s_gaussian = s.remove_background('gaussian_difference', sigma_min=sigma_min, sigma_max=sigma_max)\n",
    "rescale(s_gaussian)\n",
    "s_gaussian = mask_direct_beam(s_gaussian)\n",
    "s_gaussian.save(filename(out_file, 'gaussian_difference', sigma_min, sigma_max), overwrite=True)"
   ]
  },
  {
   "cell_type": "code",
   "execution_count": null,
   "metadata": {},
   "outputs": [],
   "source": [
    "footprint = 15\n",
    "s_median = s.remove_background('median', footprint=footprint)\n",
    "rescale(s_median)\n",
    "s_median = mask_direct_beam(s_median)\n",
    "s_median.save(filename(out_file, 'median', footprint), overwrite=True)"
   ]
  },
  {
   "cell_type": "code",
   "execution_count": null,
   "metadata": {},
   "outputs": [],
   "source": [
    "s_hdome.plot()"
   ]
  },
  {
   "cell_type": "markdown",
   "metadata": {},
   "source": [
    "## Parameter testing"
   ]
  },
  {
   "cell_type": "code",
   "execution_count": null,
   "metadata": {},
   "outputs": [],
   "source": [
    "sample_image_x = 0\n",
    "sample_image_y = 0\n",
    "s_test_area = s.inav[sample_image_x, sample_image_y]"
   ]
  },
  {
   "cell_type": "markdown",
   "metadata": {},
   "source": [
    "### Laplace edge detection + thresholding\n",
    "\n",
    "- Gaussian blur to remove rippels. Each pixel gets a new value wich is the weighted average of its neighborhood. The original value is weighted the most, while the weighting gets smaller further away from the original pixel.\n",
    "- Laplacian of blurred image. The second derivative finds the zero crossing (i.e. the edges).\n",
    "- Compare zero crossings to threshold to remove zero crossings due to small intensity variations.\n",
    "- Median filter to remove spot noise. Replaces each pixel value by the median of the neighboring pixel values covered by a window. The window can have different shapes, but the total number of pixels covered by the window should be odd so that the median can be extracted easily. The technique is good for removing \"salt and pepper noise\", i.e. sudden disturbances seen as sparsely distributed black and white pixels. It also preserves the edges well while the noise is being removed.\n",
    "\n",
    "TODO: Source for this algorithm?"
   ]
  },
  {
   "cell_type": "code",
   "execution_count": null,
   "metadata": {},
   "outputs": [],
   "source": [
    "gauss_stddev = 0.5\n",
    "laplace_size = 3\n",
    "threshold = 0.065\n",
    "median_neighbourhood = morphology.disk(1)"
   ]
  },
  {
   "cell_type": "code",
   "execution_count": null,
   "metadata": {},
   "outputs": [],
   "source": [
    "image = s.data[0, 0]\n",
    "image_gaussian_blur = filters.gaussian(image, gauss_stddev)\n",
    "image_laplace = filters.laplace(image_gaussian_blur, laplace_size)\n",
    "threshold_mask = np.where(image_laplace > threshold)\n",
    "image_threshold = np.zeros_like(image_laplace)\n",
    "image_threshold[threshold_mask] = image_laplace[threshold_mask]\n",
    "image_median = filters.median(image_threshold, median_neighbourhood)"
   ]
  },
  {
   "cell_type": "code",
   "execution_count": null,
   "metadata": {},
   "outputs": [],
   "source": [
    "fig, axes = plt.subplots(nrows=2, ncols=2, sharex=True, sharey=True, figsize=(8,8))\n",
    "ax = axes.ravel()\n",
    "ax[0].imshow(image_gaussian_blur)\n",
    "ax[0].set_title('Gaussian blur, stddev={}'.format(gauss_stddev))\n",
    "\n",
    "ax[1].imshow(image_laplace)\n",
    "ax[1].set_title('Laplacian edge, operator size={}'.format(laplace_size))\n",
    "\n",
    "ax[2].imshow(image_threshold)\n",
    "ax[2].set_title('Thresholded > {}'.format(threshold))\n",
    "\n",
    "ax[3].imshow(image_median)\n",
    "ax[3].set_title('Median disk filter')\n",
    "\n",
    "for a in ax:\n",
    "    a.axis('off')\n",
    "    \n",
    "plt.tight_layout()\n",
    "plt.show()"
   ]
  },
  {
   "cell_type": "markdown",
   "metadata": {},
   "source": [
    "## Build-in background removal from pyxem"
   ]
  },
  {
   "cell_type": "code",
   "execution_count": null,
   "metadata": {},
   "outputs": [],
   "source": [
    "help(s.remove_background)"
   ]
  },
  {
   "cell_type": "code",
   "execution_count": null,
   "metadata": {},
   "outputs": [],
   "source": [
    "def plot_image_comparison(processed, title, param_min, param_max):\n",
    "    s = pxm.ElectronDiffraction(processed)\n",
    "    for i in range(len(param_min)):\n",
    "        print('{} -> [{}, {}], [0, {}]'.format(i, param_min[i], param_max[i], processed.shape[i]))\n",
    "        s.axes_manager.navigation_axes[i].calibrate((param_min[i], param_max[i]), (0, processed.shape[i]))\n",
    "    s.plot(cmap='viridis_r')"
   ]
  },
  {
   "cell_type": "markdown",
   "metadata": {},
   "source": [
    "### H-dome\n",
    "Test different values of h_cutoff. 0.3 seems good on this dataset."
   ]
  },
  {
   "cell_type": "code",
   "execution_count": null,
   "metadata": {},
   "outputs": [],
   "source": [
    "h_min = 0.05\n",
    "h_max = 0.9\n",
    "h_step = 0.05\n",
    "s_hdomes = np.empty((int((h_max - h_min) / h_step), s.data.shape[2], s.data.shape[3]))\n",
    "for i, h_cutoff in enumerate(np.arange(h_min, h_max, h_step)):\n",
    "    s_hdomes[i] = s_test_area.remove_background('h-dome', h=h_cutoff, show_progressbar=False)\n",
    "plot_image_comparison(s_hdomes, 'h-dome bg rem', [h_min], [h_max])"
   ]
  },
  {
   "cell_type": "markdown",
   "metadata": {},
   "source": [
    "### Gaussian\n",
    "$\\sigma_{\\text{max}} = 6$, $\\sigma_{\\text{min}} = 1$ gives reasonable results."
   ]
  },
  {
   "cell_type": "code",
   "execution_count": null,
   "metadata": {},
   "outputs": [],
   "source": [
    "gauss_stddev_max_min = 2\n",
    "gauss_stddev_max_max = 15\n",
    "gauss_stddev_max_step = 0.2\n",
    "gauss_stddev_min_min = 1\n",
    "gauss_stddev_min_max = 4\n",
    "gauss_stddev_min_step = 0.2\n",
    "gauss_stddev_maxs = np.arange(gauss_stddev_max_min, gauss_stddev_max_max, gauss_stddev_max_step)\n",
    "gauss_stddev_mins = np.arange(gauss_stddev_min_min, gauss_stddev_min_max, gauss_stddev_min_step)\n",
    "s_gaussians = np.empty((\n",
    "    len(gauss_stddev_maxs),\n",
    "    len(gauss_stddev_mins),\n",
    "    s.data.shape[2], s.data.shape[3]))\n",
    "\n",
    "for i, gauss_stddev_max in enumerate(gauss_stddev_maxs):\n",
    "    for j, gauss_stddev_min in enumerate(gauss_stddev_mins):\n",
    "        s_gaussians[i, j] = s_test_area.remove_background('gaussian_difference',\n",
    "                                                          sigma_min=gauss_stddev_min, sigma_max=gauss_stddev_max,\n",
    "                                                          show_progressbar=False)\n",
    "        \n",
    "plot_image_comparison(s_gaussians, 'Gaussian difference bg rem',\n",
    "              [gauss_stddev_max_min, gauss_stddev_min_min],\n",
    "              [gauss_stddev_max_max, gauss_stddev_min_max])"
   ]
  },
  {
   "cell_type": "markdown",
   "metadata": {},
   "source": [
    "### Median\n",
    "A footprint of 15 gives good results (documentation suggests 'Should be large enough that it is about 3x as big as the size of the peaks')."
   ]
  },
  {
   "cell_type": "code",
   "execution_count": null,
   "metadata": {},
   "outputs": [],
   "source": [
    "median_implementation = 'scipy'\n",
    "median_footprint_min = 8\n",
    "median_footprint_max = 50\n",
    "median_footprint_step = 1\n",
    "median_footprints = np.arange(median_footprint_min, median_footprint_max, median_footprint_step)\n",
    "s_medians = np.empty((len(median_footprints), s.data.shape[2], s.data.shape[3]))\n",
    "for i, footprint in enumerate(median_footprints):\n",
    "    s_medians[i] = s_test_area.remove_background('median',\n",
    "                                                 footprint=footprint,\n",
    "                                                 implementation=median_implementation,\n",
    "                                                 show_progressbar=False)\n",
    "plot_image_comparison(s_medians, 'Median filter bg rem',\n",
    "                     [median_footprint_min], [median_footprint_max])"
   ]
  },
  {
   "cell_type": "code",
   "execution_count": null,
   "metadata": {},
   "outputs": [],
   "source": []
  }
 ],
 "metadata": {
  "kernelspec": {
   "display_name": "Python 3",
   "language": "python",
   "name": "python3"
  },
  "language_info": {
   "codemirror_mode": {
    "name": "ipython",
    "version": 3
   },
   "file_extension": ".py",
   "mimetype": "text/x-python",
   "name": "python",
   "nbconvert_exporter": "python",
   "pygments_lexer": "ipython3",
   "version": "3.6.5"
  }
 },
 "nbformat": 4,
 "nbformat_minor": 2
}
