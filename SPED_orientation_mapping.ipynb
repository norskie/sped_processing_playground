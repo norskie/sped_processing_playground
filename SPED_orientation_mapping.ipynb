{
 "cells": [
  {
   "cell_type": "markdown",
   "metadata": {},
   "source": [
    "# SPED orientation mapping\n",
    "[The pyXem SED analysis introduction](https://github.com/pyxem/pyxem-demos/blob/master/Basic%20SED%20Analysis%20-%20GaAs%20Nanowire.ipynb) provides an introduction to [pyXem](https://github.com/pyxem/pyxem). This notebook demonstrates how to run template matching and vector matching to index a SPED dataset. Note that files are assumed to be in the same directory as this notebook. Update as needed.\n",
    "\n",
    "1. [Load data](#Load-data)\n",
    "2. [Explore](#Explore)\n",
    "3. [Preprocessing](#Preprocessing)\n",
    "4. [Template matching](#Template-matching)\n",
    "    1. [Build template library](#Build-the-template-library)\n",
    "    2. [Indexing](#Indexing-with-template-matching)\n",
    "5. [Vector matching](#Vector-matching)\n",
    "    1. [Build vector library](#Build-the-vector-library)\n",
    "    2. [Vector matching: Peak finding](#Vector-matching%3A-Peak-finding)\n",
    "    2. [Indexing](#Indexing-with-vector-matching)\n",
    "6. [Results](#Results)\n",
    "\n",
    "First, load some common dependencies"
   ]
  },
  {
   "cell_type": "code",
   "execution_count": null,
   "metadata": {},
   "outputs": [],
   "source": [
    "# You might have tk installed instead of qt\n",
    "%matplotlib qt\n",
    "import math\n",
    "import numpy as np\n",
    "\n",
    "import matplotlib\n",
    "import matplotlib.pyplot as plt\n",
    "\n",
    "import pyxem as pxm\n",
    "\n",
    "import diffpy.structure\n",
    "\n",
    "from transforms3d.axangles import axangle2mat\n",
    "from transforms3d.euler import axangle2euler\n",
    "from transforms3d.euler import euler2mat\n",
    "from transforms3d.euler import mat2euler\n",
    "\n",
    "from tqdm import tqdm"
   ]
  },
  {
   "cell_type": "markdown",
   "metadata": {},
   "source": [
    "## Load data"
   ]
  },
  {
   "cell_type": "markdown",
   "metadata": {},
   "source": [
    "Load the SPED dataset. The file is lazy-loaded and then cut. This ensures that only required areas are loaded from disk to memory. Here, we load a section of a section of a GaAsSb nanowire, and the parameters in the rest of the notebook are adapted to this dataset. If you explore different datasets, some of these parameters must be updated. The nanowire section contains a transition from a ZB phase to WZ and back to ZB again.\n",
    "\n",
    "The data type is changed to float and some metadata is set. The call to `pxm.ElectronDiffraction` converts the hyperspy signal to a pyxem object which gives access to the pyxem tools. The metadata from the file has to be copied manually. The constructor probably should have done so automatically, but it does not yet do that."
   ]
  },
  {
   "cell_type": "code",
   "execution_count": null,
   "metadata": {},
   "outputs": [],
   "source": [
    "dp_full = pxm.load_hspy(r'NW_GaAs_ZB_WZ_pyxem_sample.hdf5')"
   ]
  },
  {
   "cell_type": "code",
   "execution_count": null,
   "metadata": {},
   "outputs": [],
   "source": [
    "# The background removal and affine transform (further down) changes\n",
    "# the type without respecting the loaded precision. We do it ourselves\n",
    "# to be explicit.\n",
    "if dp_full.data.dtype != 'float64':\n",
    "    dp_full.change_dtype('float64')\n",
    "    \n",
    "# Reciprocal calibration found by measuring a known interplanar spacing.\n",
    "# See the pyXem introduction demo for an example\n",
    "reciprocal_angstrom_per_pixel = 0.032\n",
    "\n",
    "# Convert to a pyxem ElectronDiffraction, conserve the metadata and add some more\n",
    "dp_metadata = dp_full.metadata\n",
    "dp_full = pxm.ElectronDiffraction2D(dp_full)\n",
    "dp_full.data *= 1 / dp_full.data.max()\n",
    "dp_full.metadata = dp_metadata\n",
    "dp_full.set_diffraction_calibration(reciprocal_angstrom_per_pixel)\n",
    "dp_full.set_scan_calibration(1.28)"
   ]
  },
  {
   "cell_type": "markdown",
   "metadata": {},
   "source": [
    "Load structure files using `diffpy`."
   ]
  },
  {
   "cell_type": "code",
   "execution_count": null,
   "metadata": {},
   "outputs": [],
   "source": [
    "structure_zb_file = r'GaAs_mp-2534_conventional_standard.cif'\n",
    "structure_wz_file = r'GaAs_mp-8883_conventional_standard.cif'\n",
    "\n",
    "structure_zb = diffpy.structure.loadStructure(structure_zb_file)\n",
    "structure_wz = diffpy.structure.loadStructure(structure_wz_file)"
   ]
  },
  {
   "cell_type": "markdown",
   "metadata": {},
   "source": [
    "## Explore\n",
    "Before doing anything with the dataset, one way of exploring the dataset is using interactive Virtual Dark Field imaging. First, create a virtual aperture and then pass it to `plot_interactive_virtual_image`."
   ]
  },
  {
   "cell_type": "code",
   "execution_count": null,
   "metadata": {},
   "outputs": [],
   "source": [
    "roi = pxm.roi.CircleROI(cx=0, cy=0, r_inner=0, r=0.07)\n",
    "dp_full.plot_interactive_virtual_image(roi=roi, cmap='viridis')"
   ]
  },
  {
   "cell_type": "code",
   "execution_count": null,
   "metadata": {},
   "outputs": [],
   "source": [
    "crop_region = pxm.roi.RectangularROI(left=90, top=30, right=110, bottom=75)\n",
    "dp_full.plot(cmap='viridis', vmax=0.8)\n",
    "crop_region.add_widget(dp_full)"
   ]
  },
  {
   "cell_type": "code",
   "execution_count": null,
   "metadata": {},
   "outputs": [],
   "source": [
    "# Crop the dataset for faster execution while reading this notebook. Remove to run on the full dataset\n",
    "dp = crop_region(dp_full)"
   ]
  },
  {
   "cell_type": "markdown",
   "metadata": {},
   "source": [
    "## Preprocessing"
   ]
  },
  {
   "cell_type": "markdown",
   "metadata": {},
   "source": [
    "Preprocessing in this case consist of applying an affine transform to correct for camera distortions and a background removal using a Gaussian difference method. First we look for good parameters for the background removal ($\\sigma_{\\text{min}}, \\sigma_{\\text{max}}$)."
   ]
  },
  {
   "cell_type": "code",
   "execution_count": null,
   "metadata": {},
   "outputs": [],
   "source": [
    "dp_test_area = dp.inav[0, 0]  # Try different positions to ensure good values on all parts of the dataset"
   ]
  },
  {
   "cell_type": "markdown",
   "metadata": {},
   "source": [
    "The following code creates a signal with the test area repeated with the background removed using different parameters. Run it, and find the combination of  ($\\sigma_{\\text{min}}, \\sigma_{\\text{max}}$) that removes as much background as possible without affecting the diffraction spots too much. The Difference of Gaussian method works by convolving each diffraction pattern with a Gaussian before subtracting one from the other to create a band-pass filter. $\\sigma_{\\text{min}}, \\sigma_{\\text{max}}$ define the standard deviation for the two Gaussians that are applied."
   ]
  },
  {
   "cell_type": "code",
   "execution_count": null,
   "metadata": {},
   "outputs": [],
   "source": [
    "gauss_stddev_maxs = np.arange(2, 12, 0.2)  # min, max, step\n",
    "gauss_stddev_mins = np.arange(1,  4, 0.2)  # min, max, step"
   ]
  },
  {
   "cell_type": "code",
   "execution_count": null,
   "metadata": {
    "scrolled": true
   },
   "outputs": [],
   "source": [
    "# Pyxem master now has:\n",
    "from pyxem.utils.expt_utils import investigate_dog_background_removal_interactive\n",
    "investigate_dog_background_removal_interactive(dp_test_area, gauss_stddev_maxs, gauss_stddev_mins)"
   ]
  },
  {
   "cell_type": "code",
   "execution_count": null,
   "metadata": {},
   "outputs": [],
   "source": [
    "# But the latest release as of this change does not. If so, use:\n",
    "gauss_processed = np.empty((\n",
    "    len(gauss_stddev_maxs),\n",
    "    len(gauss_stddev_mins),\n",
    "    *dp.axes_manager.signal_shape))\n",
    "\n",
    "for i, gauss_stddev_max in enumerate(tqdm(gauss_stddev_maxs, leave=False)):\n",
    "    for j, gauss_stddev_min in enumerate(gauss_stddev_mins):\n",
    "        gauss_processed[i, j] = dp_test_area.remove_background('gaussian_difference',\n",
    "                                                          sigma_min=gauss_stddev_min, sigma_max=gauss_stddev_max,\n",
    "                                                          show_progressbar=False)\n",
    "dp_gaussian = pxm.ElectronDiffraction(gauss_processed)\n",
    "dp_gaussian.metadata.General.title = 'Gaussian preprocessed'\n",
    "dp_gaussian.axes_manager.navigation_axes[0].name = r'$\\sigma_{\\mathrm{min}}$'\n",
    "dp_gaussian.axes_manager.navigation_axes[0].offset = gauss_stddev_mins[0]\n",
    "dp_gaussian.axes_manager.navigation_axes[0].scale = gauss_stddev_mins[1] - gauss_stddev_mins[0]\n",
    "dp_gaussian.axes_manager.navigation_axes[0].units = ''\n",
    "dp_gaussian.axes_manager.navigation_axes[1].name = r'$\\sigma_{\\mathrm{max}}$'\n",
    "dp_gaussian.axes_manager.navigation_axes[1].offset = gauss_stddev_maxs[0]\n",
    "dp_gaussian.axes_manager.navigation_axes[1].scale = gauss_stddev_maxs[1] - gauss_stddev_maxs[0]\n",
    "dp_gaussian.axes_manager.navigation_axes[1].units = ''"
   ]
  },
  {
   "cell_type": "code",
   "execution_count": null,
   "metadata": {},
   "outputs": [],
   "source": [
    "dp_gaussian.plot(cmap='viridis')"
   ]
  },
  {
   "cell_type": "markdown",
   "metadata": {},
   "source": [
    "I don't have a good solution for finding the camera affine transform parameters, but I have [a notebook](https://github.com/shogas/sped_processing_playground/blob/master/template_param_optimize.ipynb) which runs an optimisation algorithm on diffraction pattern calibration ($Å^{-1}$ per pixel), max excitation error (for relrod length), scale and offset that seems to work OK on my datasets. Suggestions welcome.\n",
    "\n",
    "Apply the affine transform, the background removal and rescale."
   ]
  },
  {
   "cell_type": "code",
   "execution_count": null,
   "metadata": {
    "scrolled": true
   },
   "outputs": [],
   "source": [
    "scale_x = 0.995\n",
    "scale_y = 1.031\n",
    "offset_x = 0.631\n",
    "offset_y = -0.351\n",
    "dp.apply_affine_transformation(np.array([\n",
    "    [scale_x, 0, offset_x],\n",
    "    [0, scale_y, offset_y],\n",
    "    [0, 0, 1]\n",
    "    ]))\n",
    "\n",
    "dp = dp.remove_background('gaussian_difference', sigma_min=2, sigma_max=8)\n",
    "dp.data -= dp.data.min()\n",
    "dp.data *= 1 / dp.data.max()"
   ]
  },
  {
   "cell_type": "markdown",
   "metadata": {},
   "source": [
    "## Template matching\n",
    "Template matching generates a database of simulated diffraction patterns and then compares all simulated diffraction pattern to each of the experimental diffraction patterns to find the best match."
   ]
  },
  {
   "cell_type": "code",
   "execution_count": null,
   "metadata": {},
   "outputs": [],
   "source": [
    "from diffsims.generators.structure_library_generator import StructureLibraryGenerator\n",
    "from diffsims.libraries.diffraction_library import load_DiffractionLibrary\n",
    "from pyxem.generators.indexation_generator import IndexationGenerator"
   ]
  },
  {
   "cell_type": "markdown",
   "metadata": {},
   "source": [
    "### Build the template library"
   ]
  },
  {
   "cell_type": "markdown",
   "metadata": {},
   "source": [
    "Set parameters and describe the phases present in your sample:"
   ]
  },
  {
   "cell_type": "code",
   "execution_count": null,
   "metadata": {},
   "outputs": [],
   "source": [
    "rotation_list_resolution = 1\n",
    "beam_energy_keV = 200\n",
    "max_excitation_error = 1/10  # Ångström^{-1}, extent of relrods in reciprocal space. Inverse of specimen thickness is a starting point\n",
    "\n",
    "phase_descriptions = [('ZB', structure_zb, 'cubic'),\n",
    "                      ('WZ', structure_wz, 'hexagonal')]\n",
    "phase_names = [phase[0] for phase in phase_descriptions]\n",
    "structure_library_generator = StructureLibraryGenerator(phase_descriptions)\n",
    "\n",
    "inplane_rotations = [[0], [0]]  # The library only needs the base in-plane rotation. The other ones are generated\n",
    "structure_library = structure_library_generator.get_orientations_from_stereographic_triangle(\n",
    "        inplane_rotations, rotation_list_resolution)\n",
    "gen = pxm.DiffractionGenerator(beam_energy_keV, max_excitation_error=max_excitation_error)\n",
    "\n",
    "target_pattern_dimension_pixels = dp.axes_manager.signal_shape[0]\n",
    "half_pattern_size = target_pattern_dimension_pixels // 2\n",
    "reciprocal_radius = reciprocal_angstrom_per_pixel*(half_pattern_size - 1)"
   ]
  },
  {
   "cell_type": "markdown",
   "metadata": {},
   "source": [
    "If you already have a diffraction library you want to use, load load it from file on disk. Otherwise, create a new one. \n",
    "\n",
    "(1) From disk if you already have one:"
   ]
  },
  {
   "cell_type": "code",
   "execution_count": null,
   "metadata": {},
   "outputs": [],
   "source": [
    "diffraction_library_cache_filename = 'GaAs_cubic_hex_1deg.pickle'"
   ]
  },
  {
   "cell_type": "code",
   "execution_count": null,
   "metadata": {},
   "outputs": [],
   "source": [
    "diffraction_library = load_DiffractionLibrary(diffraction_library_cache_filename, safety=True)"
   ]
  },
  {
   "cell_type": "markdown",
   "metadata": {},
   "source": [
    "(2) Otherwise, generate if from a rotation list on a stereographic triangle:"
   ]
  },
  {
   "cell_type": "code",
   "execution_count": null,
   "metadata": {
    "scrolled": true
   },
   "outputs": [],
   "source": [
    "library_generator = pxm.DiffractionLibraryGenerator(gen)\n",
    "diffraction_library = library_generator.get_diffraction_library(\n",
    "    structure_library,\n",
    "    calibration=reciprocal_angstrom_per_pixel,\n",
    "    reciprocal_radius=reciprocal_radius,\n",
    "    half_shape=(half_pattern_size, half_pattern_size),\n",
    "    with_direct_beam=False)"
   ]
  },
  {
   "cell_type": "markdown",
   "metadata": {},
   "source": [
    "Optionally, save the library for later use."
   ]
  },
  {
   "cell_type": "code",
   "execution_count": null,
   "metadata": {},
   "outputs": [],
   "source": [
    "diffraction_library.pickle_library(diffraction_library_cache_filename)"
   ]
  },
  {
   "cell_type": "markdown",
   "metadata": {},
   "source": [
    "### Indexing with template matching\n",
    "\n",
    "Given the `diffraction_library` defined above, the `IndexationGenerator` finds the correlation between all patterns in the library and each experimental pattern, and returns the `n_largest` matches with highest correlation."
   ]
  },
  {
   "cell_type": "code",
   "execution_count": null,
   "metadata": {
    "scrolled": true
   },
   "outputs": [],
   "source": [
    "indexer = IndexationGenerator(dp, diffraction_library)\n",
    "indexation_results = indexer.correlate(n_largest=4)"
   ]
  },
  {
   "cell_type": "markdown",
   "metadata": {},
   "source": [
    "The results are ready for further analysis. The same visualisations can be used for template matching results and vector matching results. An example is given in the [Results](#Results) section below the vector matching to avoid repeating the same code and explanations."
   ]
  },
  {
   "cell_type": "markdown",
   "metadata": {},
   "source": [
    "## Vector matching\n",
    "Another method for generating phase and orientation maps is vector matching. The method is still a work in progress, but it works well for diffraction patterns close to a low-index zone axis."
   ]
  },
  {
   "cell_type": "code",
   "execution_count": null,
   "metadata": {},
   "outputs": [],
   "source": [
    "from diffsims.generators.library_generator import VectorLibraryGenerator\n",
    "from diffsims.libraries.structure_library import StructureLibrary\n",
    "from diffsims.libraries.vector_library import load_VectorLibrary\n",
    "from pyxem.generators.indexation_generator import VectorIndexationGenerator\n",
    "from pyxem.generators.subpixelrefinement_generator import SubpixelrefinementGenerator\n",
    "from pyxem.signals.diffraction_vectors import DiffractionVectors"
   ]
  },
  {
   "cell_type": "markdown",
   "metadata": {},
   "source": [
    "### Build the vector library"
   ]
  },
  {
   "cell_type": "code",
   "execution_count": null,
   "metadata": {},
   "outputs": [],
   "source": [
    "reciprocal_radius_max = 2.0  # Extent of library in Å^-1\n",
    "vector_library_cache_filename = 'GaAs_cubic_hex_vector_2.pickle'"
   ]
  },
  {
   "cell_type": "markdown",
   "metadata": {},
   "source": [
    "Get a vector library from file on disk or create a new one.\n",
    "\n",
    "(1) From disk if you already have one:"
   ]
  },
  {
   "cell_type": "code",
   "execution_count": null,
   "metadata": {},
   "outputs": [],
   "source": [
    "vector_library = load_VectorLibrary(vector_library_cache_filename, safety=True)"
   ]
  },
  {
   "cell_type": "markdown",
   "metadata": {},
   "source": [
    "(2) Generate a new library"
   ]
  },
  {
   "cell_type": "code",
   "execution_count": null,
   "metadata": {},
   "outputs": [],
   "source": [
    "# No orientations needed in the structure library nor the vector library generator\n",
    "structure_library = StructureLibrary(['ZB', 'WZ'], [structure_zb, structure_wz], [[], []])\n",
    "library_generator = VectorLibraryGenerator(structure_library)\n",
    "vector_library = library_generator.get_vector_library(reciprocal_radius_max)"
   ]
  },
  {
   "cell_type": "markdown",
   "metadata": {},
   "source": [
    "Optionally, save the library for later use"
   ]
  },
  {
   "cell_type": "code",
   "execution_count": null,
   "metadata": {},
   "outputs": [],
   "source": [
    "vector_library.pickle_library(vector_library_cache_filename)"
   ]
  },
  {
   "cell_type": "markdown",
   "metadata": {},
   "source": [
    "###  Vector matching: Peak finding"
   ]
  },
  {
   "cell_type": "markdown",
   "metadata": {},
   "source": [
    "The first step of vector matching is to find the peaks. Start selecting a method and tuning the parameters interactively."
   ]
  },
  {
   "cell_type": "code",
   "execution_count": null,
   "metadata": {
    "scrolled": true
   },
   "outputs": [],
   "source": [
    "dp.find_peaks_interactive(imshow_kwargs={'cmap': 'viridis', 'vmax': 0.8})"
   ]
  },
  {
   "cell_type": "markdown",
   "metadata": {},
   "source": [
    "Then run the peak finding on the full dataset with the parameters you found above."
   ]
  },
  {
   "cell_type": "code",
   "execution_count": null,
   "metadata": {
    "scrolled": true
   },
   "outputs": [],
   "source": [
    "peaks = dp.find_peaks(method='difference_of_gaussians',\n",
    "                      min_sigma=0.005,\n",
    "                      max_sigma=5.0,\n",
    "                      sigma_ratio=2.0,\n",
    "                      threshold=0.06,\n",
    "                      overlap=0.8)"
   ]
  },
  {
   "cell_type": "markdown",
   "metadata": {},
   "source": [
    "Plot the vectors in a part of the dataset (HyperSpy currently requires a square region)."
   ]
  },
  {
   "cell_type": "code",
   "execution_count": null,
   "metadata": {},
   "outputs": [],
   "source": [
    "peaks.inav[0:20, 10:30].plot_diffraction_vectors_on_signal(dp.inav[0:20, 10:30])"
   ]
  },
  {
   "cell_type": "markdown",
   "metadata": {},
   "source": [
    "Remove any peeks that are too long and the direct beam."
   ]
  },
  {
   "cell_type": "code",
   "execution_count": null,
   "metadata": {},
   "outputs": [],
   "source": [
    "def filter_peaks(peaks):\n",
    "    peaks = peaks[0]\n",
    "    # Only keep vectors within max length and remove centre (closer than 5px to image centre)\n",
    "    return peaks[(np.linalg.norm(peaks, axis=1) < reciprocal_radius_max) &\n",
    "                 (np.any(np.abs(peaks) > 5 * reciprocal_angstrom_per_pixel, axis=1))]\n",
    "\n",
    "peaks.map(filter_peaks)\n",
    "# Map changes the signal type. Reset\n",
    "peaks = DiffractionVectors(peaks.data)\n",
    "peaks.axes_manager.set_signal_dimension(0)"
   ]
  },
  {
   "cell_type": "markdown",
   "metadata": {},
   "source": [
    "After finding the diffraction spots, the position can be refined using the subpixel refinement generator. The centre of mass method gives good results on the nanowire, but other datasets get better results with another method. See the `SubpixelrefinementGenerator` documentation for other options."
   ]
  },
  {
   "cell_type": "code",
   "execution_count": null,
   "metadata": {},
   "outputs": [],
   "source": [
    "subpixel_refinement = SubpixelrefinementGenerator(dp, peaks)\n",
    "peaks = DiffractionVectors(subpixel_refinement.center_of_mass_method(square_size=8))\n",
    "peaks.axes_manager.set_signal_dimension(0)"
   ]
  },
  {
   "cell_type": "markdown",
   "metadata": {},
   "source": [
    "Plot the vectors again to see the difference."
   ]
  },
  {
   "cell_type": "code",
   "execution_count": null,
   "metadata": {},
   "outputs": [],
   "source": [
    "peaks.inav[0:20, 15:35].plot_diffraction_vectors_on_signal(dp.inav[0:20, 15:35])"
   ]
  },
  {
   "cell_type": "markdown",
   "metadata": {},
   "source": [
    "`peaks` now contain the 2D positions of the diffraction spots on the detector. The vector matching method works in 3D coordinates, which are found by projecting the detector positions back onto the Ewald sphere."
   ]
  },
  {
   "cell_type": "code",
   "execution_count": null,
   "metadata": {},
   "outputs": [],
   "source": [
    "beam_energy_keV = 200\n",
    "camera_length = 0.2  # Not currently used in the calculation, but still a required parameter\n",
    "peaks.calculate_cartesian_coordinates(beam_energy_keV, camera_length)"
   ]
  },
  {
   "cell_type": "markdown",
   "metadata": {},
   "source": [
    "### Indexing with vector matching"
   ]
  },
  {
   "cell_type": "markdown",
   "metadata": {},
   "source": [
    "Finally, we are ready to run the indexing. Create an indexation generator and use it to index the vectors"
   ]
  },
  {
   "cell_type": "code",
   "execution_count": null,
   "metadata": {},
   "outputs": [],
   "source": [
    "indexation_generator = VectorIndexationGenerator(peaks, vector_library)"
   ]
  },
  {
   "cell_type": "code",
   "execution_count": null,
   "metadata": {
    "scrolled": true
   },
   "outputs": [],
   "source": [
    "indexation_results = indexation_generator.index_vectors(mag_tol=3*reciprocal_angstrom_per_pixel,\n",
    "                                                angle_tol=4,  # degree\n",
    "                                                index_error_tol=0.2,\n",
    "                                                n_peaks_to_index=7,\n",
    "                                                n_best=2,\n",
    "                                                show_progressbar=True)"
   ]
  },
  {
   "cell_type": "markdown",
   "metadata": {},
   "source": [
    "The `indexation` results can now be used like the results of template matching. Repeating what we had above:"
   ]
  },
  {
   "cell_type": "markdown",
   "metadata": {},
   "source": [
    "## Results"
   ]
  },
  {
   "cell_type": "markdown",
   "metadata": {},
   "source": [
    "Pyxem exposes visualisations for the indexation results through a `CrystallographicMap`. Here, the phase map and orientation maps are plotted along with reliability maps. The orientation maps show the rotation angle in the axis-angle representation of the orientation. [MTEX](https://mtex-toolbox.github.io/) provides better plotting."
   ]
  },
  {
   "cell_type": "code",
   "execution_count": null,
   "metadata": {},
   "outputs": [],
   "source": [
    "crystal_map = indexation_results.get_crystallographic_map()"
   ]
  },
  {
   "cell_type": "code",
   "execution_count": null,
   "metadata": {},
   "outputs": [],
   "source": [
    "crystal_map.get_phase_map().plot()\n",
    "crystal_map.get_metric_map('phase_reliability').plot()"
   ]
  },
  {
   "cell_type": "code",
   "execution_count": null,
   "metadata": {},
   "outputs": [],
   "source": [
    "crystal_map.get_orientation_map().plot()\n",
    "crystal_map.get_metric_map('orientation_reliability').plot()"
   ]
  },
  {
   "cell_type": "markdown",
   "metadata": {},
   "source": [
    "MTEX gives much better orientation maps, and pyxem supports exporting the orientation data in a format that can be read by mtex."
   ]
  },
  {
   "cell_type": "code",
   "execution_count": null,
   "metadata": {},
   "outputs": [],
   "source": [
    "crystal_map.save_mtex_map('mtex_orientation_data.csv')"
   ]
  },
  {
   "cell_type": "markdown",
   "metadata": {},
   "source": [
    "Let's look at the best matches. Due to a `Hyperspy` problem, see \n",
    "https://github.com/hyperspy/hyperspy/issues/2080, only a square area can be shown. (Another problem with Hyperspy: The first image shown determines how many markers is shown. When you first open the figure, a ZB position is selected, which has fewer spots. When moving to WZ, some of the spots are missing. The fix for now is to move to WZ, then close and reopen the figure.)"
   ]
  },
  {
   "cell_type": "code",
   "execution_count": null,
   "metadata": {
    "scrolled": true
   },
   "outputs": [],
   "source": [
    "indexation_results.plot_best_matching_results_on_signal(\n",
    "    dp, diffraction_library, gen, reciprocal_radius)"
   ]
  },
  {
   "cell_type": "code",
   "execution_count": null,
   "metadata": {},
   "outputs": [],
   "source": []
  }
 ],
 "metadata": {
  "kernelspec": {
   "display_name": "Python 3",
   "language": "python",
   "name": "python3"
  },
  "language_info": {
   "codemirror_mode": {
    "name": "ipython",
    "version": 3
   },
   "file_extension": ".py",
   "mimetype": "text/x-python",
   "name": "python",
   "nbconvert_exporter": "python",
   "pygments_lexer": "ipython3",
   "version": "3.7.3"
  }
 },
 "nbformat": 4,
 "nbformat_minor": 4
}
